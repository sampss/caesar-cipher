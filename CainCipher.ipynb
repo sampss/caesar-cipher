{
 "cells": [
  {
   "cell_type": "code",
   "execution_count": 1,
   "metadata": {},
   "outputs": [
    {
     "name": "stdout",
     "output_type": "stream",
     "text": [
      "Cqrb rb j cnbc !!  !@#$%^&*() 123456789\n",
      "This is a test !!  !@#$%^&*() 123456789\n"
     ]
    }
   ],
   "source": [
    "# 5\n",
    "# This is a sentence With Sp@cial C$rs\n",
    "# This is a test !!  !@#$%^&*() 123456789\n",
    "\n",
    "\n",
    "key = int(input(\"Please enter the number of places to shift: \"))\n",
    "plaintext = input(\"Please enter a sentence: \")\n",
    "ciphertext = \"\"\n",
    "\n",
    "for char in plaintext:\n",
    "    if char.isalpha():\n",
    "        shift = ord(char) + key\n",
    "        if char.isupper():\n",
    "            if shift > ord('Z'):\n",
    "                shift -= 26\n",
    "            ciphertext += chr(shift)\n",
    "        else:\n",
    "            if shift > ord('z'):\n",
    "                shift -= 26\n",
    "            ciphertext += chr(shift)\n",
    "    else:\n",
    "            ciphertext += char\n",
    "print(ciphertext)\n",
    "       \n",
    "plaintext = \"\"\n",
    "for char in ciphertext:\n",
    "    if char.isalpha():\n",
    "        shift = ord(char) - key\n",
    "        if char.isupper():\n",
    "            if shift < ord('A'):\n",
    "                shift += 26\n",
    "            plaintext += chr(shift)\n",
    "        else:\n",
    "            if shift < ord('a'):\n",
    "                 shift += 26\n",
    "            plaintext += chr(shift)\n",
    "    else:\n",
    "        plaintext += char\n",
    "print(plaintext)\n",
    "\n",
    "\n"
   ]
  }
 ],
 "metadata": {
  "kernelspec": {
   "display_name": "Python 3",
   "language": "python",
   "name": "python3"
  },
  "language_info": {
   "codemirror_mode": {
    "name": "ipython",
    "version": 3
   },
   "file_extension": ".py",
   "mimetype": "text/x-python",
   "name": "python",
   "nbconvert_exporter": "python",
   "pygments_lexer": "ipython3",
   "version": "3.12.2"
  }
 },
 "nbformat": 4,
 "nbformat_minor": 2
}
