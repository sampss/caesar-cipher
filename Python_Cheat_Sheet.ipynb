{
 "cells": [
  {
   "cell_type": "markdown",
   "metadata": {},
   "source": [
    "# Table of Contents\n",
    "-------------------------\n",
    "1. File Handling\n",
    "2. String Operations\n",
    "3. List Operations\n",
    "4. Dictionary Operations\n",
    "5. Common Built-in Functions\n",
    "6. Loops and Conditionals\n",
    "7. Function Definitions"
   ]
  },
  {
   "cell_type": "markdown",
   "metadata": {},
   "source": [
    "# File Handling\n",
    "-------------------------"
   ]
  },
  {
   "cell_type": "code",
   "execution_count": null,
   "metadata": {},
   "outputs": [],
   "source": [
    "# Reading a File\n",
    "with open(\"file.txt\", \"r\") as file:\n",
    "    content = file.read()\n",
    "    print(content)\n",
    "\n",
    "# Writing to a File\n",
    "with open(\"file.txt\", \"w\") as file:\n",
    "    file.write(\"Hello, world!\")\n",
    "\n",
    "# Appending to a File\n",
    "with open(\"file.txt\", \"a\") as file:\n",
    "    file.write(\"\\nAppending a new line.\")\n"
   ]
  },
  {
   "cell_type": "markdown",
   "metadata": {},
   "source": [
    "# String Operations\n",
    "-------------------------"
   ]
  },
  {
   "cell_type": "code",
   "execution_count": null,
   "metadata": {},
   "outputs": [],
   "source": [
    "text = \"hello world\"\n",
    "# Split String\n",
    "words = text.split()\n",
    "print(words)\n",
    "\n",
    "# Upper Case String\n",
    "uppercase_text = text.upper()\n",
    "print(uppercase_text)"
   ]
  },
  {
   "cell_type": "markdown",
   "metadata": {},
   "source": [
    "# List Operations\n",
    "-------------------------"
   ]
  },
  {
   "cell_type": "code",
   "execution_count": null,
   "metadata": {},
   "outputs": [],
   "source": [
    "my_list = [1, 2, 3]\n",
    "# Append to List\n",
    "my_list.append(4)\n",
    "print(my_list)\n",
    "\n",
    "# Extend List\n",
    "my_list.extend([4, 5])\n",
    "print(my_list)"
   ]
  },
  {
   "cell_type": "markdown",
   "metadata": {},
   "source": [
    "# Dictionary Operations\n",
    "-------------------------"
   ]
  },
  {
   "cell_type": "code",
   "execution_count": null,
   "metadata": {},
   "outputs": [],
   "source": [
    "my_dict = {'a': 1, 'b': 2}\n",
    "# Access Dictionary Keys\n",
    "keys = my_dict.keys()\n",
    "print(keys)\n",
    "\n",
    "# Get Value\n",
    "value = my_dict.get('a')\n",
    "print(value)"
   ]
  },
  {
   "cell_type": "markdown",
   "metadata": {},
   "source": [
    "# Common Built-in Functions\n",
    "-------------------------"
   ]
  },
  {
   "cell_type": "code",
   "execution_count": null,
   "metadata": {},
   "outputs": [],
   "source": [
    "my_list = [1, 2, 3, 4]\n",
    "# Get Length\n",
    "length = len(my_list)\n",
    "print(length)\n",
    "\n",
    "my_variable = 42\n",
    "# Type Check\n",
    "type_of_variable = type(my_variable)\n",
    "print(type_of_variable)"
   ]
  },
  {
   "cell_type": "markdown",
   "metadata": {},
   "source": [
    "# Loops and Conditionals\n",
    "-------------------------"
   ]
  },
  {
   "cell_type": "code",
   "execution_count": null,
   "metadata": {},
   "outputs": [],
   "source": [
    "# For Loop\n",
    "for i in range(5):\n",
    "    print(i)\n",
    "\n",
    "# If-Else Conditional\n",
    "x = 10\n",
    "if x > 5:\n",
    "    print(\"x is greater than 5\")\n",
    "else:\n",
    "    print(\"x is less than or equal to 5\")"
   ]
  },
  {
   "cell_type": "markdown",
   "metadata": {},
   "source": [
    "# Function Definitions\n",
    "-------------------------"
   ]
  },
  {
   "cell_type": "code",
   "execution_count": null,
   "metadata": {},
   "outputs": [],
   "source": [
    "# Basic Function\n",
    "def greet(name):\n",
    "    return f\"Hello, {name}!\"\n",
    "\n",
    "print(greet(\"Alice\"))\n",
    "\n",
    "# Function with Default Argument\n",
    "def greet(name=\"World\"):\n",
    "    return f\"Hello, {name}!\"\n",
    "\n",
    "print(greet())\n",
    "print(greet(\"Alice\"))"
   ]
  }
 ],
 "metadata": {
  "language_info": {
   "name": "python"
  }
 },
 "nbformat": 4,
 "nbformat_minor": 2
}
