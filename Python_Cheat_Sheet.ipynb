{
 "cells": [
  {
   "cell_type": "markdown",
   "metadata": {},
   "source": [
    "# Table of Contents\n",
    "-------------------------\n",
    "1.   File Handling\n",
    "2.   String Operations\n",
    "3.   f-strings (Formatted String Literals)\n",
    "4.   str.format() Method\n",
    "5.   Concatenation and Repetition\n",
    "6.   Multiline Strings\n",
    "7.   List Operations\n",
    "8.   Dictionary Operations\n",
    "9.   Common Built-in Functions\n",
    "10.  Loops and Conditionals\n",
    "11.  Function Definitions\n",
    "12.  Arithmetic Operators\n",
    "13.  Comparison Operators\n",
    "14.  Logical Operators\n",
    "15.  Assignment Operators\n",
    "16.  Bitwise Operators\n",
    "\n",
    "\n"
   ]
  },
  {
   "cell_type": "markdown",
   "metadata": {},
   "source": [
    "# File Handling\n",
    "-------------------------"
   ]
  },
  {
   "cell_type": "markdown",
   "metadata": {},
   "source": [
    "with - The with statement in Python simplifies exception handling and ensures resources are properly managed. It automatically takes care of acquiring and releasing resources like files or locks."
   ]
  },
  {
   "cell_type": "code",
   "execution_count": null,
   "metadata": {},
   "outputs": [],
   "source": [
    "# Reading a File\n",
    "with open(\"file.txt\", \"r\") as file:\n",
    "    content = file.read()\n",
    "    print(content)\n",
    "\n",
    "# Writing to a File\n",
    "with open(\"file.txt\", \"w\") as file:\n",
    "    file.write(\"Hello, world!\")\n",
    "\n",
    "# Appending to a File\n",
    "with open(\"file.txt\", \"a\") as file:\n",
    "    file.write(\"\\nAppending a new line.\")\n"
   ]
  },
  {
   "cell_type": "markdown",
   "metadata": {},
   "source": [
    "# String Operations\n",
    "-------------------------"
   ]
  },
  {
   "cell_type": "code",
   "execution_count": null,
   "metadata": {},
   "outputs": [],
   "source": [
    "text = \"hello world\"\n",
    "# Split String\n",
    "words = text.split()\n",
    "print(words)\n",
    "\n",
    "# Upper Case String\n",
    "uppercase_text = text.upper()\n",
    "print(uppercase_text)\n",
    "\n",
    "# Lower Case String\n",
    "lowercase_text = text.lower()\n",
    "print(lowercase_text)\n",
    "\n",
    "# Strip Whitespace\n",
    "stripped_text = text.strip()\n",
    "print(stripped_text)\n",
    "\n",
    "# Replace Substring\n",
    "replaced_text = text.replace(\"world\", \"there\")\n",
    "print(replaced_text)"
   ]
  },
  {
   "cell_type": "markdown",
   "metadata": {},
   "source": [
    "# f-strings (Formatted String Literals)\n",
    "-------------------------"
   ]
  },
  {
   "cell_type": "code",
   "execution_count": null,
   "metadata": {},
   "outputs": [],
   "source": [
    "name = \"Alice\"\n",
    "age = 30\n",
    "# Basic f-string\n",
    "greeting = f\"Hello, {name}! You are {age} years old.\"\n",
    "print(greeting)\n",
    "\n",
    "# f-string with expressions\n",
    "calculation = f\"The sum of 2 and 3 is {2 + 3}.\"\n",
    "print(calculation)\n",
    "\n",
    "# f-string with dictionary\n",
    "person = {\"name\": \"Bob\", \"age\": 25}\n",
    "info = f\"{person['name']} is {person['age']} years old.\"\n",
    "print(info)\n"
   ]
  },
  {
   "cell_type": "markdown",
   "metadata": {},
   "source": [
    "# str.format() Method\n",
    "-------------------------"
   ]
  },
  {
   "cell_type": "code",
   "execution_count": null,
   "metadata": {},
   "outputs": [],
   "source": [
    "# Basic usage\n",
    "greeting = \"Hello, {}!\".format(\"Alice\")\n",
    "print(greeting)\n",
    "\n",
    "# Using positional arguments\n",
    "greeting = \"Hello, {0} and {1}!\".format(\"Alice\", \"Bob\")\n",
    "print(greeting)\n",
    "\n",
    "# Using keyword arguments\n",
    "greeting = \"Hello, {name}!\".format(name=\"Alice\")\n",
    "print(greeting)\n",
    "\n",
    "# Formatting numbers\n",
    "number = \"The number is {:.2f}\".format(3.14159)\n",
    "print(number)"
   ]
  },
  {
   "cell_type": "markdown",
   "metadata": {},
   "source": [
    "# Concatenation and Repetition\n",
    "-------------------------"
   ]
  },
  {
   "cell_type": "code",
   "execution_count": null,
   "metadata": {},
   "outputs": [],
   "source": [
    "# Concatenation\n",
    "greeting = \"Hello, \" + \"world!\"\n",
    "print(greeting)\n",
    "\n",
    "# Repetition\n",
    "repeated_text = \"Hello! \" * 3\n",
    "print(repeated_text)"
   ]
  },
  {
   "cell_type": "markdown",
   "metadata": {},
   "source": [
    "# Multiline Strings\n",
    "-------------------------"
   ]
  },
  {
   "cell_type": "code",
   "execution_count": null,
   "metadata": {},
   "outputs": [],
   "source": [
    "# Using triple quotes\n",
    "multiline_text = \"\"\"This is a multiline string.\n",
    "It spans multiple lines.\n",
    "Pretty neat, right?\"\"\"\n",
    "print(multiline_text)"
   ]
  },
  {
   "cell_type": "markdown",
   "metadata": {},
   "source": [
    "# List Operations\n",
    "-------------------------"
   ]
  },
  {
   "cell_type": "code",
   "execution_count": null,
   "metadata": {},
   "outputs": [],
   "source": [
    "my_list = [1, 2, 3]\n",
    "# Append to List\n",
    "my_list.append(4)\n",
    "print(my_list)\n",
    "\n",
    "# Extend List\n",
    "my_list.extend([4, 5])\n",
    "print(my_list)"
   ]
  },
  {
   "cell_type": "markdown",
   "metadata": {},
   "source": [
    "# Dictionary Operations\n",
    "-------------------------"
   ]
  },
  {
   "cell_type": "code",
   "execution_count": null,
   "metadata": {},
   "outputs": [],
   "source": [
    "my_dict = {'a': 1, 'b': 2}\n",
    "# Access Dictionary Keys\n",
    "keys = my_dict.keys()\n",
    "print(keys)\n",
    "\n",
    "# Get Value\n",
    "value = my_dict.get('a')\n",
    "print(value)"
   ]
  },
  {
   "cell_type": "markdown",
   "metadata": {},
   "source": [
    "# Common Built-in Functions\n",
    "-------------------------"
   ]
  },
  {
   "cell_type": "code",
   "execution_count": null,
   "metadata": {},
   "outputs": [],
   "source": [
    "my_list = [1, 2, 3, 4]\n",
    "# Get Length\n",
    "length = len(my_list)\n",
    "print(length)\n",
    "\n",
    "my_variable = 42\n",
    "# Type Check\n",
    "type_of_variable = type(my_variable)\n",
    "print(type_of_variable)"
   ]
  },
  {
   "cell_type": "markdown",
   "metadata": {},
   "source": [
    "# Loops and Conditionals\n",
    "-------------------------"
   ]
  },
  {
   "cell_type": "code",
   "execution_count": null,
   "metadata": {},
   "outputs": [],
   "source": [
    "# For Loop\n",
    "for i in range(5):\n",
    "    print(i)\n",
    "\n",
    "# If-Else Conditional\n",
    "x = 10\n",
    "if x > 5:\n",
    "    print(\"x is greater than 5\")\n",
    "else:\n",
    "    print(\"x is less than or equal to 5\")"
   ]
  },
  {
   "cell_type": "markdown",
   "metadata": {},
   "source": [
    "# Function Definitions\n",
    "-------------------------"
   ]
  },
  {
   "cell_type": "code",
   "execution_count": null,
   "metadata": {},
   "outputs": [],
   "source": [
    "# Basic Function\n",
    "def greet(name):\n",
    "    return f\"Hello, {name}!\"\n",
    "\n",
    "print(greet(\"Alice\"))\n",
    "\n",
    "# Function with Default Argument\n",
    "def greet(name=\"World\"):\n",
    "    return f\"Hello, {name}!\"\n",
    "\n",
    "print(greet())\n",
    "print(greet(\"Alice\"))"
   ]
  },
  {
   "cell_type": "markdown",
   "metadata": {},
   "source": [
    "# Arithmetic Operators\n",
    "-------------------------"
   ]
  },
  {
   "cell_type": "code",
   "execution_count": null,
   "metadata": {},
   "outputs": [],
   "source": [
    "# Addition\n",
    "result = 3 + 2\n",
    "print(result)  # 5\n",
    "\n",
    "# Subtraction\n",
    "result = 5 - 3\n",
    "print(result)  # 2\n",
    "\n",
    "# Multiplication\n",
    "result = 4 * 2\n",
    "print(result)  # 8\n",
    "\n",
    "# Division\n",
    "result = 10 / 2\n",
    "print(result)  # 5.0\n",
    "\n",
    "# Floor Division\n",
    "result = 10 // 3\n",
    "print(result)  # 3\n",
    "\n",
    "# Modulus\n",
    "result = 10 % 3\n",
    "print(result)  # 1\n",
    "\n",
    "# Exponentiation\n",
    "result = 2 ** 3\n",
    "print(result)  # 8\n"
   ]
  },
  {
   "cell_type": "markdown",
   "metadata": {},
   "source": [
    "# Comparison Operators\n",
    "-------------------------"
   ]
  },
  {
   "cell_type": "code",
   "execution_count": null,
   "metadata": {},
   "outputs": [],
   "source": [
    "# Equal\n",
    "result = (3 == 3)\n",
    "print(result)  # True\n",
    "\n",
    "# Not Equal\n",
    "result = (3 != 2)\n",
    "print(result)  # True\n",
    "\n",
    "# Greater Than\n",
    "result = (5 > 3)\n",
    "print(result)  # True\n",
    "\n",
    "# Less Than\n",
    "result = (3 < 5)\n",
    "print(result)  # True\n",
    "\n",
    "# Greater Than or Equal To\n",
    "result = (5 >= 3)\n",
    "print(result)  # True\n",
    "\n",
    "# Less Than or Equal To\n",
    "result = (3 <= 5)\n",
    "print(result)  # True\n"
   ]
  },
  {
   "cell_type": "markdown",
   "metadata": {},
   "source": [
    "# Logical Operators\n",
    "-------------------------"
   ]
  },
  {
   "cell_type": "code",
   "execution_count": null,
   "metadata": {},
   "outputs": [],
   "source": [
    "# And\n",
    "result = (True and False)\n",
    "print(result)  # False\n",
    "\n",
    "# Or\n",
    "result = (True or False)\n",
    "print(result)  # True\n",
    "\n",
    "# Not\n",
    "result = not True\n",
    "print(result)  # False\n"
   ]
  },
  {
   "cell_type": "markdown",
   "metadata": {},
   "source": [
    "# Assignment Operators\n",
    "-------------------------"
   ]
  },
  {
   "cell_type": "code",
   "execution_count": null,
   "metadata": {},
   "outputs": [],
   "source": [
    "# Assign\n",
    "x = 5\n",
    "print(x)  # 5\n",
    "\n",
    "# Add and Assign\n",
    "x += 3\n",
    "print(x)  # 8\n",
    "\n",
    "# Subtract and Assign\n",
    "x -= 2\n",
    "print(x)  # 6\n",
    "\n",
    "# Multiply and Assign\n",
    "x *= 2\n",
    "print(x)  # 12\n",
    "\n",
    "# Divide and Assign\n",
    "x /= 4\n",
    "print(x)  # 3.0\n",
    "\n",
    "# Floor Divide and Assign\n",
    "x //= 2\n",
    "print(x)  # 1.0\n",
    "\n",
    "# Modulus and Assign\n",
    "x %= 2\n",
    "print(x)  # 1.0\n",
    "\n",
    "# Exponent and Assign\n",
    "x **= 3\n",
    "print(x)  # 1.0\n"
   ]
  },
  {
   "cell_type": "markdown",
   "metadata": {},
   "source": [
    "# Bitwise Operators\n",
    "-------------------------"
   ]
  },
  {
   "cell_type": "code",
   "execution_count": null,
   "metadata": {},
   "outputs": [],
   "source": [
    "# AND\n",
    "result = 5 & 3\n",
    "print(result)  # 1\n",
    "\n",
    "# OR\n",
    "result = 5 | 3\n",
    "print(result)  # 7\n",
    "\n",
    "# XOR\n",
    "result = 5 ^ 3\n",
    "print(result)  # 6\n",
    "\n",
    "# NOT\n",
    "result = ~5\n",
    "print(result)  # -6\n",
    "\n",
    "# Left Shift\n",
    "result = 5 << 1\n",
    "print(result)  # 10\n",
    "\n",
    "# Right Shift\n",
    "result = 5 >> 1\n",
    "print(result)  # 2\n"
   ]
  }
 ],
 "metadata": {
  "language_info": {
   "name": "python"
  }
 },
 "nbformat": 4,
 "nbformat_minor": 2
}
